{
 "cells": [
  {
   "cell_type": "code",
   "execution_count": 41,
   "metadata": {
    "collapsed": false
   },
   "outputs": [
    {
     "name": "stdout",
     "output_type": "stream",
     "text": [
      "show_Transfered Matrix\n",
      "total: 1309 train_df: 1049 test: 260\n"
     ]
    }
   ],
   "source": [
    "\n",
    "import os\n",
    "import numpy\n",
    "import pandas as pd\n",
    "\n",
    "\n",
    "import urllib.request\n",
    "url = \"http://biostat.mc.vanderbilt.edu/wiki/pub/Main/DataSets/titanic3.xls\"\n",
    "filepath = \"titanic3.xls\"\n",
    "\n",
    "if not os.path.isfile(filepath):\n",
    "    result = urllib.request.urlretrieve(url,filepath)\n",
    "    print('downloaded:', result)\n",
    "\n",
    "\n",
    "def PreprocessData(raw_df):\n",
    "    df = raw_df.drop(['name'],axis=1)\n",
    "    age_mean   = df['age'].mean()\n",
    "    df['age']  = df['age'].fillna(age_mean)\n",
    "    fare_mean  = df['fare'].mean()\n",
    "    df['fare'] = df['fare'].fillna(fare_mean)    \n",
    "    df['sex']  = df['sex'].map({'female':0, 'male':1}).astype(int)\n",
    "    x_OneHot_df =pd.get_dummies(data = df,columns=[\"embarked\"])\n",
    "    \n",
    "    ndarray = x_OneHot_df.values\n",
    "    Features = ndarray[:,1:]\n",
    "    Label = ndarray[:,0]\n",
    "    \n",
    "    minmax_scale = preprocessing.MinMaxScaler(feature_range=(0,1))\n",
    "    scaledFeatures = minmax_scale.fit_transform(Features)\n",
    "    \n",
    "    return scaledFeatures,Label\n",
    "    \n",
    "    \n",
    "#______________________________________________________________________________________________________\n",
    "#print('______________________________________________________________________________________________________')\n",
    "#loading Taianic database\n",
    "all_df = pd.read_excel(filepath)\n",
    "all_df[:2] #check_out\n",
    "\n",
    "#change data of col\n",
    "cols = ['survived','name','pclass','sex','age','sibsp','parch','fare','embarked']\n",
    "all_df = all_df[cols]#change col data\n",
    "all_df[:2]\n",
    "\n",
    "df = all_df.drop(['name'],axis=1) #remove col of name\n",
    "all_df.isnull().sum() #findout-null of sum\n",
    "\n",
    "#remove and transfer null value\n",
    "age_mean = df['age'].mean()\n",
    "df['age'] = df['age'].fillna(age_mean)# fill in average value\n",
    "\n",
    "fare_mean = df['fare'].mean()\n",
    "df['fare'] = df['fare'].fillna(fare_mean)# fill in average value\n",
    "\n",
    "#Uisng get_dummise\n",
    "df['sex'] = df['sex'].map({'female':0,'male':1}).astype(int)\n",
    "x_OneHot_df = pd.get_dummies(data=df,columns=['embarked'])\n",
    "print('show_Transfered Matrix')\n",
    "x_OneHot_df[:2] #for page 160\n",
    "\n",
    "#dataframe transfer to array\n",
    "ndarray = x_OneHot_df.values\n",
    "#ndarray.shape\n",
    "#ndarray[:2]\n",
    "\n",
    "Label = ndarray[:,0]\n",
    "Features = ndarray[:,1:]\n",
    "\n",
    "#normailze\n",
    "from sklearn import preprocessing\n",
    "minmax_scale = preprocessing.MinMaxScaler(feature_range=(0,1))\n",
    "scaledFeatures = minmax_scale.fit_transform(Features)\n",
    "\n",
    "#spil out\n",
    "msk = numpy.random.rand(len(all_df)) < 0.8\n",
    "train_df = all_df[msk]\n",
    "test_df  = all_df[~msk] #rest of part\n",
    "print('total:',len(all_df),'train_df:',len(train_df),'test:',len(test_df))\n",
    "\n",
    "\n",
    "#pre-process\n",
    "train_feature, train_label = PreprocessData(train_df)\n",
    "test_feature,  test_label  = PreprocessData(test_df)\n",
    "#train_feature[:2]\n",
    "#train_label[:2]\n",
    "\n"
   ]
  },
  {
   "cell_type": "code",
   "execution_count": null,
   "metadata": {
    "collapsed": true
   },
   "outputs": [],
   "source": []
  }
 ],
 "metadata": {
  "anaconda-cloud": {},
  "kernelspec": {
   "display_name": "Python [default]",
   "language": "python",
   "name": "python3"
  },
  "language_info": {
   "codemirror_mode": {
    "name": "ipython",
    "version": 3
   },
   "file_extension": ".py",
   "mimetype": "text/x-python",
   "name": "python",
   "nbconvert_exporter": "python",
   "pygments_lexer": "ipython3",
   "version": "3.5.2"
  }
 },
 "nbformat": 4,
 "nbformat_minor": 1
}
