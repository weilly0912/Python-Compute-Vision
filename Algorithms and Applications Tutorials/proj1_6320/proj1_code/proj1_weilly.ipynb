{
 "cells": [
  {
   "cell_type": "code",
   "execution_count": 32,
   "id": "simple-sally",
   "metadata": {},
   "outputs": [
    {
     "name": "stdout",
     "output_type": "stream",
     "text": [
      "The autoreload extension is already loaded. To reload it, use:\n",
      "  %reload_ext autoreload\n",
      "image shape =  (28, 28)\n"
     ]
    },
    {
     "data": {
      "image/png": "[encoded data removed]",
      "text/plain": [
       "<Figure size 216x216 with 1 Axes>"
      ]
     },
     "metadata": {
      "needs_background": "light"
     },
     "output_type": "display_data"
    },
    {
     "data": {
      "image/png": "[encoded data removed]",
      "text/plain": [
       "<Figure size 216x216 with 1 Axes>"
      ]
     },
     "metadata": {
      "needs_background": "light"
     },
     "output_type": "display_data"
    }
   ],
   "source": [
    "import numpy as np\n",
    "import matplotlib\n",
    "import matplotlib.pyplot as plt\n",
    "#import torch\n",
    "import numpy as np\n",
    "import scipy.misc #數學工具包\n",
    "\n",
    "from utils import load_image, save_image\n",
    "\n",
    "%matplotlib inline \n",
    "%load_ext autoreload\n",
    "%autoreload 2\n",
    "\n",
    "image = load_image('../mnist_1.bmp')\n",
    "plt.figure(figsize=(3,3)); plt.imshow((image*255).astype(np.uint8));\n",
    "plt.figure(figsize=(3,3)); plt.imshow(image,cmap='gray');\n",
    "print('image shape = ',image.shape)"
   ]
  },
  {
   "cell_type": "code",
   "execution_count": 33,
   "id": "adopted-reconstruction",
   "metadata": {},
   "outputs": [
    {
     "name": "stdout",
     "output_type": "stream",
     "text": [
      "image shape =  (28, 28)\n"
     ]
    },
    {
     "data": {
      "image/png": "[encoded data removed]",
      "text/plain": [
       "<Figure size 216x216 with 1 Axes>"
      ]
     },
     "metadata": {
      "needs_background": "light"
     },
     "output_type": "display_data"
    },
    {
     "data": {
      "image/png": "[encoded data removed]",
      "text/plain": [
       "<Figure size 216x216 with 1 Axes>"
      ]
     },
     "metadata": {
      "needs_background": "light"
     },
     "output_type": "display_data"
    }
   ],
   "source": [
    "import numpy as np\n",
    "import matplotlib\n",
    "import matplotlib.pyplot as plt\n",
    "from utils import load_image, save_image\n",
    "image = load_image('../mnist_1.bmp')\n",
    "plt.figure(figsize=(3,3)); plt.imshow((image*255).astype(np.uint8));\n",
    "plt.figure(figsize=(3,3)); plt.imshow(image,cmap='gray');\n",
    "print('image shape = ',image.shape)"
   ]
  },
  {
   "cell_type": "code",
   "execution_count": 3,
   "id": "eligible-aaron",
   "metadata": {},
   "outputs": [],
   "source": [
    "a=1"
   ]
  },
  {
   "cell_type": "code",
   "execution_count": 4,
   "id": "identical-scholarship",
   "metadata": {},
   "outputs": [
    {
     "data": {
      "text/plain": [
       "array([[1.        , 1.        , 1.        , 1.        , 1.        ,\n",
       "        1.        , 1.        , 1.        , 1.        , 1.        ,\n",
       "        1.        , 1.        , 1.        , 1.        , 1.        ,\n",
       "        1.        , 1.        , 1.        , 1.        , 1.        ,\n",
       "        1.        , 1.        , 1.        , 1.        , 1.        ,\n",
       "        1.        , 1.        , 1.        ],\n",
       "       [1.        , 1.        , 1.        , 1.        , 1.        ,\n",
       "        1.        , 1.        , 1.        , 1.        , 1.        ,\n",
       "        1.        , 1.        , 1.        , 1.        , 1.        ,\n",
       "        1.        , 1.        , 1.        , 1.        , 1.        ,\n",
       "        1.        , 1.        , 1.        , 1.        , 1.        ,\n",
       "        1.        , 1.        , 1.        ],\n",
       "       [1.        , 1.        , 1.        , 1.        , 1.        ,\n",
       "        1.        , 1.        , 1.        , 1.        , 1.        ,\n",
       "        1.        , 1.        , 1.        , 1.        , 1.        ,\n",
       "        1.        , 1.        , 1.        , 1.        , 1.        ,\n",
       "        1.        , 1.        , 1.        , 1.        , 1.        ,\n",
       "        1.        , 1.        , 1.        ],\n",
       "       [1.        , 1.        , 1.        , 1.        , 1.        ,\n",
       "        1.        , 1.        , 1.        , 1.        , 1.        ,\n",
       "        1.        , 1.        , 0.9647059 , 0.03137255, 0.9647059 ,\n",
       "        1.        , 1.        , 1.        , 1.        , 1.        ,\n",
       "        1.        , 1.        , 1.        , 1.        , 1.        ,\n",
       "        1.        , 1.        , 1.        ],\n",
       "       [1.        , 1.        , 1.        , 1.        , 1.        ,\n",
       "        1.        , 1.        , 1.        , 1.        , 1.        ,\n",
       "        1.        , 0.02745098, 0.28627452, 0.        , 0.60784316,\n",
       "        0.9647059 , 1.        , 1.        , 1.        , 1.        ,\n",
       "        1.        , 1.        , 1.        , 1.        , 1.        ,\n",
       "        1.        , 1.        , 1.        ],\n",
       "       [1.        , 1.        , 1.        , 1.        , 1.        ,\n",
       "        1.        , 1.        , 1.        , 1.        , 1.        ,\n",
       "        1.        , 0.96862745, 0.        , 0.        , 0.32156864,\n",
       "        0.03137255, 1.        , 1.        , 1.        , 1.        ,\n",
       "        1.        , 1.        , 1.        , 1.        , 1.        ,\n",
       "        1.        , 1.        , 1.        ],\n",
       "       [1.        , 1.        , 1.        , 1.        , 1.        ,\n",
       "        1.        , 1.        , 1.        , 1.        , 1.        ,\n",
       "        1.        , 0.02745098, 0.28627452, 0.        , 0.32156864,\n",
       "        0.03137255, 1.        , 1.        , 1.        , 1.        ,\n",
       "        1.        , 1.        , 1.        , 1.        , 1.        ,\n",
       "        1.        , 1.        , 1.        ],\n",
       "       [1.        , 1.        , 1.        , 1.        , 1.        ,\n",
       "        1.        , 1.        , 1.        , 1.        , 1.        ,\n",
       "        1.        , 0.02745098, 0.32156864, 0.        , 0.32156864,\n",
       "        0.03137255, 1.        , 1.        , 1.        , 1.        ,\n",
       "        1.        , 1.        , 1.        , 1.        , 1.        ,\n",
       "        1.        , 1.        , 1.        ],\n",
       "       [1.        , 1.        , 1.        , 1.        , 1.        ,\n",
       "        1.        , 1.        , 1.        , 1.        , 1.        ,\n",
       "        1.        , 0.96862745, 0.        , 0.        , 0.32156864,\n",
       "        0.03137255, 1.        , 1.        , 1.        , 1.        ,\n",
       "        1.        , 1.        , 1.        , 1.        , 1.        ,\n",
       "        1.        , 1.        , 1.        ],\n",
       "       [1.        , 1.        , 1.        , 1.        , 1.        ,\n",
       "        1.        , 1.        , 1.        , 1.        , 1.        ,\n",
       "        1.        , 0.96862745, 0.        , 0.        , 0.28627452,\n",
       "        0.96862745, 0.9647059 , 1.        , 1.        , 1.        ,\n",
       "        1.        , 1.        , 1.        , 1.        , 1.        ,\n",
       "        1.        , 1.        , 1.        ],\n",
       "       [1.        , 1.        , 1.        , 1.        , 1.        ,\n",
       "        1.        , 1.        , 1.        , 1.        , 1.        ,\n",
       "        1.        , 0.03137255, 0.35686275, 0.        , 0.        ,\n",
       "        0.32156864, 0.02745098, 1.        , 1.        , 1.        ,\n",
       "        1.        , 1.        , 1.        , 1.        , 1.        ,\n",
       "        1.        , 1.        , 1.        ],\n",
       "       [1.        , 1.        , 1.        , 1.        , 1.        ,\n",
       "        1.        , 1.        , 1.        , 1.        , 1.        ,\n",
       "        1.        , 1.        , 0.96862745, 0.        , 0.        ,\n",
       "        0.32156864, 0.02745098, 1.        , 1.        , 1.        ,\n",
       "        1.        , 1.        , 1.        , 1.        , 1.        ,\n",
       "        1.        , 1.        , 1.        ],\n",
       "       [1.        , 1.        , 1.        , 1.        , 1.        ,\n",
       "        1.        , 1.        , 1.        , 1.        , 1.        ,\n",
       "        1.        , 1.        , 0.96862745, 0.        , 0.        ,\n",
       "        0.32156864, 0.02745098, 1.        , 1.        , 1.        ,\n",
       "        1.        , 1.        , 1.        , 1.        , 1.        ,\n",
       "        1.        , 1.        , 1.        ],\n",
       "       [1.        , 1.        , 1.        , 1.        , 1.        ,\n",
       "        1.        , 1.        , 1.        , 1.        , 1.        ,\n",
       "        1.        , 1.        , 0.96862745, 0.        , 0.        ,\n",
       "        0.32156864, 0.02745098, 1.        , 1.        , 1.        ,\n",
       "        1.        , 1.        , 1.        , 1.        , 1.        ,\n",
       "        1.        , 1.        , 1.        ],\n",
       "       [1.        , 1.        , 1.        , 1.        , 1.        ,\n",
       "        1.        , 1.        , 1.        , 1.        , 1.        ,\n",
       "        1.        , 1.        , 0.96862745, 0.        , 0.        ,\n",
       "        0.32156864, 0.02745098, 1.        , 1.        , 1.        ,\n",
       "        1.        , 1.        , 1.        , 1.        , 1.        ,\n",
       "        1.        , 1.        , 1.        ],\n",
       "       [1.        , 1.        , 1.        , 1.        , 1.        ,\n",
       "        1.        , 1.        , 1.        , 1.        , 1.        ,\n",
       "        1.        , 1.        , 0.96862745, 0.        , 0.        ,\n",
       "        0.28627452, 0.02745098, 1.        , 1.        , 1.        ,\n",
       "        1.        , 1.        , 1.        , 1.        , 1.        ,\n",
       "        1.        , 1.        , 1.        ],\n",
       "       [1.        , 1.        , 1.        , 1.        , 1.        ,\n",
       "        1.        , 1.        , 1.        , 1.        , 1.        ,\n",
       "        1.        , 1.        , 0.96862745, 0.        , 0.        ,\n",
       "        0.        , 0.6431373 , 1.        , 1.        , 1.        ,\n",
       "        1.        , 1.        , 1.        , 1.        , 1.        ,\n",
       "        1.        , 1.        , 1.        ],\n",
       "       [1.        , 1.        , 1.        , 1.        , 1.        ,\n",
       "        1.        , 1.        , 1.        , 1.        , 1.        ,\n",
       "        1.        , 1.        , 0.96862745, 0.        , 0.        ,\n",
       "        0.        , 0.32156864, 0.9647059 , 1.        , 1.        ,\n",
       "        1.        , 1.        , 1.        , 1.        , 1.        ,\n",
       "        1.        , 1.        , 1.        ],\n",
       "       [1.        , 1.        , 1.        , 1.        , 1.        ,\n",
       "        1.        , 1.        , 1.        , 1.        , 1.        ,\n",
       "        1.        , 1.        , 0.02745098, 0.32156864, 0.        ,\n",
       "        0.        , 0.28627452, 0.96862745, 1.        , 1.        ,\n",
       "        1.        , 1.        , 1.        , 1.        , 1.        ,\n",
       "        1.        , 1.        , 1.        ],\n",
       "       [1.        , 1.        , 1.        , 1.        , 1.        ,\n",
       "        1.        , 1.        , 1.        , 1.        , 1.        ,\n",
       "        1.        , 1.        , 0.9647059 , 0.60784316, 0.        ,\n",
       "        0.        , 0.28627452, 0.96862745, 1.        , 1.        ,\n",
       "        1.        , 1.        , 1.        , 1.        , 1.        ,\n",
       "        1.        , 1.        , 1.        ],\n",
       "       [1.        , 1.        , 1.        , 1.        , 1.        ,\n",
       "        1.        , 1.        , 1.        , 1.        , 1.        ,\n",
       "        1.        , 1.        , 1.        , 0.96862745, 0.        ,\n",
       "        0.        , 0.        , 0.32156864, 0.9647059 , 1.        ,\n",
       "        1.        , 1.        , 1.        , 1.        , 1.        ,\n",
       "        1.        , 1.        , 1.        ],\n",
       "       [1.        , 1.        , 1.        , 1.        , 1.        ,\n",
       "        1.        , 1.        , 1.        , 1.        , 1.        ,\n",
       "        1.        , 1.        , 1.        , 0.02745098, 0.32156864,\n",
       "        0.        , 0.        , 0.32156864, 0.9647059 , 1.        ,\n",
       "        1.        , 1.        , 1.        , 1.        , 1.        ,\n",
       "        1.        , 1.        , 1.        ],\n",
       "       [1.        , 1.        , 1.        , 1.        , 1.        ,\n",
       "        1.        , 1.        , 1.        , 1.        , 1.        ,\n",
       "        1.        , 1.        , 1.        , 0.9647059 , 0.6431373 ,\n",
       "        0.        , 0.        , 0.32156864, 0.9647059 , 1.        ,\n",
       "        1.        , 1.        , 1.        , 1.        , 1.        ,\n",
       "        1.        , 1.        , 1.        ],\n",
       "       [1.        , 1.        , 1.        , 1.        , 1.        ,\n",
       "        1.        , 1.        , 1.        , 1.        , 1.        ,\n",
       "        1.        , 1.        , 1.        , 1.        , 0.96862745,\n",
       "        0.32156864, 0.28627452, 0.6431373 , 0.9647059 , 1.        ,\n",
       "        1.        , 1.        , 1.        , 1.        , 1.        ,\n",
       "        1.        , 1.        , 1.        ],\n",
       "       [1.        , 1.        , 1.        , 1.        , 1.        ,\n",
       "        1.        , 1.        , 1.        , 1.        , 1.        ,\n",
       "        1.        , 1.        , 1.        , 1.        , 1.        ,\n",
       "        1.        , 1.        , 1.        , 1.        , 1.        ,\n",
       "        1.        , 1.        , 1.        , 1.        , 1.        ,\n",
       "        1.        , 1.        , 1.        ],\n",
       "       [1.        , 1.        , 1.        , 1.        , 1.        ,\n",
       "        1.        , 1.        , 1.        , 1.        , 1.        ,\n",
       "        1.        , 1.        , 1.        , 1.        , 1.        ,\n",
       "        1.        , 1.        , 1.        , 1.        , 1.        ,\n",
       "        1.        , 1.        , 1.        , 1.        , 1.        ,\n",
       "        1.        , 1.        , 1.        ],\n",
       "       [1.        , 1.        , 1.        , 1.        , 1.        ,\n",
       "        1.        , 1.        , 1.        , 1.        , 1.        ,\n",
       "        1.        , 1.        , 1.        , 1.        , 1.        ,\n",
       "        1.        , 1.        , 1.        , 1.        , 1.        ,\n",
       "        1.        , 1.        , 1.        , 1.        , 1.        ,\n",
       "        1.        , 1.        , 1.        ],\n",
       "       [1.        , 1.        , 1.        , 1.        , 1.        ,\n",
       "        1.        , 1.        , 1.        , 1.        , 1.        ,\n",
       "        1.        , 1.        , 1.        , 1.        , 1.        ,\n",
       "        1.        , 1.        , 1.        , 1.        , 1.        ,\n",
       "        1.        , 1.        , 1.        , 1.        , 1.        ,\n",
       "        1.        , 1.        , 1.        ]], dtype=float32)"
      ]
     },
     "execution_count": 4,
     "metadata": {},
     "output_type": "execute_result"
    }
   ],
   "source": [
    "#觀察 pixel\n",
    "image"
   ]
  },
  {
   "cell_type": "code",
   "execution_count": 5,
   "id": "freelance-banana",
   "metadata": {},
   "outputs": [
    {
     "data": {
      "text/plain": [
       "array([[255., 255., 255., 255., 255., 255., 255., 255., 255., 255.],\n",
       "       [255., 255., 255., 255., 255., 255., 255., 255., 255., 255.],\n",
       "       [255., 255., 255., 255., 255., 255., 255., 255., 255., 255.],\n",
       "       [255., 255., 246.,   8., 246., 255., 255., 255., 255., 255.],\n",
       "       [255.,   7.,  73.,   0., 155., 246., 255., 255., 255., 255.],\n",
       "       [255., 247.,   0.,   0.,  82.,   8., 255., 255., 255., 255.],\n",
       "       [255.,   7.,  73.,   0.,  82.,   8., 255., 255., 255., 255.],\n",
       "       [255.,   7.,  82.,   0.,  82.,   8., 255., 255., 255., 255.],\n",
       "       [255., 247.,   0.,   0.,  82.,   8., 255., 255., 255., 255.],\n",
       "       [255., 247.,   0.,   0.,  73., 247., 246., 255., 255., 255.],\n",
       "       [255.,   8.,  91.,   0.,   0.,  82.,   7., 255., 255., 255.],\n",
       "       [255., 255., 247.,   0.,   0.,  82.,   7., 255., 255., 255.],\n",
       "       [255., 255., 247.,   0.,   0.,  82.,   7., 255., 255., 255.],\n",
       "       [255., 255., 247.,   0.,   0.,  82.,   7., 255., 255., 255.],\n",
       "       [255., 255., 247.,   0.,   0.,  82.,   7., 255., 255., 255.],\n",
       "       [255., 255., 247.,   0.,   0.,  73.,   7., 255., 255., 255.],\n",
       "       [255., 255., 247.,   0.,   0.,   0., 164., 255., 255., 255.],\n",
       "       [255., 255., 247.,   0.,   0.,   0.,  82., 246., 255., 255.],\n",
       "       [255., 255.,   7.,  82.,   0.,   0.,  73., 247., 255., 255.],\n",
       "       [255., 255., 246., 155.,   0.,   0.,  73., 247., 255., 255.],\n",
       "       [255., 255., 255., 247.,   0.,   0.,   0.,  82., 246., 255.],\n",
       "       [255., 255., 255.,   7.,  82.,   0.,   0.,  82., 246., 255.],\n",
       "       [255., 255., 255., 246., 164.,   0.,   0.,  82., 246., 255.],\n",
       "       [255., 255., 255., 255., 247.,  82.,  73., 164., 246., 255.],\n",
       "       [255., 255., 255., 255., 255., 255., 255., 255., 255., 255.],\n",
       "       [255., 255., 255., 255., 255., 255., 255., 255., 255., 255.],\n",
       "       [255., 255., 255., 255., 255., 255., 255., 255., 255., 255.],\n",
       "       [255., 255., 255., 255., 255., 255., 255., 255., 255., 255.]],\n",
       "      dtype=float32)"
      ]
     },
     "execution_count": 5,
     "metadata": {},
     "output_type": "execute_result"
    }
   ],
   "source": [
    "image[:,10:20]*255"
   ]
  },
  {
   "cell_type": "code",
   "execution_count": 6,
   "id": "southern-thomson",
   "metadata": {},
   "outputs": [
    {
     "data": {
      "text/plain": [
       "array([[-254.     , -254.     , -254.     , -254.     , -254.     ,\n",
       "        -254.     , -254.     , -254.     , -254.     , -254.     ,\n",
       "        -254.     , -254.     , -254.     , -254.     , -254.     ,\n",
       "        -254.     , -254.     , -254.     , -254.     , -254.     ,\n",
       "        -254.     , -254.     , -254.     , -254.     , -254.     ,\n",
       "        -254.     , -254.     , -254.     ],\n",
       "       [-254.     , -254.     , -254.     , -254.     , -254.     ,\n",
       "        -254.     , -254.     , -254.     , -254.     , -254.     ,\n",
       "        -254.     , -254.     , -254.     , -254.     , -254.     ,\n",
       "        -254.     , -254.     , -254.     , -254.     , -254.     ,\n",
       "        -254.     , -254.     , -254.     , -254.     , -254.     ,\n",
       "        -254.     , -254.     , -254.     ],\n",
       "       [-254.     , -254.     , -254.     , -254.     , -254.     ,\n",
       "        -254.     , -254.     , -254.     , -254.     , -254.     ,\n",
       "        -254.     , -254.     , -254.     , -254.     , -254.     ,\n",
       "        -254.     , -254.     , -254.     , -254.     , -254.     ,\n",
       "        -254.     , -254.     , -254.     , -254.     , -254.     ,\n",
       "        -254.     , -254.     , -254.     ],\n",
       "       [-254.     , -254.     , -254.     , -254.     , -254.     ,\n",
       "        -254.     , -254.     , -254.     , -254.     , -254.     ,\n",
       "        -254.     , -254.     , -254.0353 , -254.96863, -254.0353 ,\n",
       "        -254.     , -254.     , -254.     , -254.     , -254.     ,\n",
       "        -254.     , -254.     , -254.     , -254.     , -254.     ,\n",
       "        -254.     , -254.     , -254.     ],\n",
       "       [-254.     , -254.     , -254.     , -254.     , -254.     ,\n",
       "        -254.     , -254.     , -254.     , -254.     , -254.     ,\n",
       "        -254.     , -254.97255, -254.71373, -255.     , -254.39215,\n",
       "        -254.0353 , -254.     , -254.     , -254.     , -254.     ,\n",
       "        -254.     , -254.     , -254.     , -254.     , -254.     ,\n",
       "        -254.     , -254.     , -254.     ],\n",
       "       [-254.     , -254.     , -254.     , -254.     , -254.     ,\n",
       "        -254.     , -254.     , -254.     , -254.     , -254.     ,\n",
       "        -254.     , -254.03137, -255.     , -255.     , -254.67844,\n",
       "        -254.96863, -254.     , -254.     , -254.     , -254.     ,\n",
       "        -254.     , -254.     , -254.     , -254.     , -254.     ,\n",
       "        -254.     , -254.     , -254.     ],\n",
       "       [-254.     , -254.     , -254.     , -254.     , -254.     ,\n",
       "        -254.     , -254.     , -254.     , -254.     , -254.     ,\n",
       "        -254.     , -254.97255, -254.71373, -255.     , -254.67844,\n",
       "        -254.96863, -254.     , -254.     , -254.     , -254.     ,\n",
       "        -254.     , -254.     , -254.     , -254.     , -254.     ,\n",
       "        -254.     , -254.     , -254.     ],\n",
       "       [-254.     , -254.     , -254.     , -254.     , -254.     ,\n",
       "        -254.     , -254.     , -254.     , -254.     , -254.     ,\n",
       "        -254.     , -254.97255, -254.67844, -255.     , -254.67844,\n",
       "        -254.96863, -254.     , -254.     , -254.     , -254.     ,\n",
       "        -254.     , -254.     , -254.     , -254.     , -254.     ,\n",
       "        -254.     , -254.     , -254.     ],\n",
       "       [-254.     , -254.     , -254.     , -254.     , -254.     ,\n",
       "        -254.     , -254.     , -254.     , -254.     , -254.     ,\n",
       "        -254.     , -254.03137, -255.     , -255.     , -254.67844,\n",
       "        -254.96863, -254.     , -254.     , -254.     , -254.     ,\n",
       "        -254.     , -254.     , -254.     , -254.     , -254.     ,\n",
       "        -254.     , -254.     , -254.     ],\n",
       "       [-254.     , -254.     , -254.     , -254.     , -254.     ,\n",
       "        -254.     , -254.     , -254.     , -254.     , -254.     ,\n",
       "        -254.     , -254.03137, -255.     , -255.     , -254.71373,\n",
       "        -254.03137, -254.0353 , -254.     , -254.     , -254.     ,\n",
       "        -254.     , -254.     , -254.     , -254.     , -254.     ,\n",
       "        -254.     , -254.     , -254.     ],\n",
       "       [-254.     , -254.     , -254.     , -254.     , -254.     ,\n",
       "        -254.     , -254.     , -254.     , -254.     , -254.     ,\n",
       "        -254.     , -254.96863, -254.64314, -255.     , -255.     ,\n",
       "        -254.67844, -254.97255, -254.     , -254.     , -254.     ,\n",
       "        -254.     , -254.     , -254.     , -254.     , -254.     ,\n",
       "        -254.     , -254.     , -254.     ],\n",
       "       [-254.     , -254.     , -254.     , -254.     , -254.     ,\n",
       "        -254.     , -254.     , -254.     , -254.     , -254.     ,\n",
       "        -254.     , -254.     , -254.03137, -255.     , -255.     ,\n",
       "        -254.67844, -254.97255, -254.     , -254.     , -254.     ,\n",
       "        -254.     , -254.     , -254.     , -254.     , -254.     ,\n",
       "        -254.     , -254.     , -254.     ],\n",
       "       [-254.     , -254.     , -254.     , -254.     , -254.     ,\n",
       "        -254.     , -254.     , -254.     , -254.     , -254.     ,\n",
       "        -254.     , -254.     , -254.03137, -255.     , -255.     ,\n",
       "        -254.67844, -254.97255, -254.     , -254.     , -254.     ,\n",
       "        -254.     , -254.     , -254.     , -254.     , -254.     ,\n",
       "        -254.     , -254.     , -254.     ],\n",
       "       [-254.     , -254.     , -254.     , -254.     , -254.     ,\n",
       "        -254.     , -254.     , -254.     , -254.     , -254.     ,\n",
       "        -254.     , -254.     , -254.03137, -255.     , -255.     ,\n",
       "        -254.67844, -254.97255, -254.     , -254.     , -254.     ,\n",
       "        -254.     , -254.     , -254.     , -254.     , -254.     ,\n",
       "        -254.     , -254.     , -254.     ],\n",
       "       [-254.     , -254.     , -254.     , -254.     , -254.     ,\n",
       "        -254.     , -254.     , -254.     , -254.     , -254.     ,\n",
       "        -254.     , -254.     , -254.03137, -255.     , -255.     ,\n",
       "        -254.67844, -254.97255, -254.     , -254.     , -254.     ,\n",
       "        -254.     , -254.     , -254.     , -254.     , -254.     ,\n",
       "        -254.     , -254.     , -254.     ],\n",
       "       [-254.     , -254.     , -254.     , -254.     , -254.     ,\n",
       "        -254.     , -254.     , -254.     , -254.     , -254.     ,\n",
       "        -254.     , -254.     , -254.03137, -255.     , -255.     ,\n",
       "        -254.71373, -254.97255, -254.     , -254.     , -254.     ,\n",
       "        -254.     , -254.     , -254.     , -254.     , -254.     ,\n",
       "        -254.     , -254.     , -254.     ],\n",
       "       [-254.     , -254.     , -254.     , -254.     , -254.     ,\n",
       "        -254.     , -254.     , -254.     , -254.     , -254.     ,\n",
       "        -254.     , -254.     , -254.03137, -255.     , -255.     ,\n",
       "        -255.     , -254.35686, -254.     , -254.     , -254.     ,\n",
       "        -254.     , -254.     , -254.     , -254.     , -254.     ,\n",
       "        -254.     , -254.     , -254.     ],\n",
       "       [-254.     , -254.     , -254.     , -254.     , -254.     ,\n",
       "        -254.     , -254.     , -254.     , -254.     , -254.     ,\n",
       "        -254.     , -254.     , -254.03137, -255.     , -255.     ,\n",
       "        -255.     , -254.67844, -254.0353 , -254.     , -254.     ,\n",
       "        -254.     , -254.     , -254.     , -254.     , -254.     ,\n",
       "        -254.     , -254.     , -254.     ],\n",
       "       [-254.     , -254.     , -254.     , -254.     , -254.     ,\n",
       "        -254.     , -254.     , -254.     , -254.     , -254.     ,\n",
       "        -254.     , -254.     , -254.97255, -254.67844, -255.     ,\n",
       "        -255.     , -254.71373, -254.03137, -254.     , -254.     ,\n",
       "        -254.     , -254.     , -254.     , -254.     , -254.     ,\n",
       "        -254.     , -254.     , -254.     ],\n",
       "       [-254.     , -254.     , -254.     , -254.     , -254.     ,\n",
       "        -254.     , -254.     , -254.     , -254.     , -254.     ,\n",
       "        -254.     , -254.     , -254.0353 , -254.39215, -255.     ,\n",
       "        -255.     , -254.71373, -254.03137, -254.     , -254.     ,\n",
       "        -254.     , -254.     , -254.     , -254.     , -254.     ,\n",
       "        -254.     , -254.     , -254.     ],\n",
       "       [-254.     , -254.     , -254.     , -254.     , -254.     ,\n",
       "        -254.     , -254.     , -254.     , -254.     , -254.     ,\n",
       "        -254.     , -254.     , -254.     , -254.03137, -255.     ,\n",
       "        -255.     , -255.     , -254.67844, -254.0353 , -254.     ,\n",
       "        -254.     , -254.     , -254.     , -254.     , -254.     ,\n",
       "        -254.     , -254.     , -254.     ],\n",
       "       [-254.     , -254.     , -254.     , -254.     , -254.     ,\n",
       "        -254.     , -254.     , -254.     , -254.     , -254.     ,\n",
       "        -254.     , -254.     , -254.     , -254.97255, -254.67844,\n",
       "        -255.     , -255.     , -254.67844, -254.0353 , -254.     ,\n",
       "        -254.     , -254.     , -254.     , -254.     , -254.     ,\n",
       "        -254.     , -254.     , -254.     ],\n",
       "       [-254.     , -254.     , -254.     , -254.     , -254.     ,\n",
       "        -254.     , -254.     , -254.     , -254.     , -254.     ,\n",
       "        -254.     , -254.     , -254.     , -254.0353 , -254.35686,\n",
       "        -255.     , -255.     , -254.67844, -254.0353 , -254.     ,\n",
       "        -254.     , -254.     , -254.     , -254.     , -254.     ,\n",
       "        -254.     , -254.     , -254.     ],\n",
       "       [-254.     , -254.     , -254.     , -254.     , -254.     ,\n",
       "        -254.     , -254.     , -254.     , -254.     , -254.     ,\n",
       "        -254.     , -254.     , -254.     , -254.     , -254.03137,\n",
       "        -254.67844, -254.71373, -254.35686, -254.0353 , -254.     ,\n",
       "        -254.     , -254.     , -254.     , -254.     , -254.     ,\n",
       "        -254.     , -254.     , -254.     ],\n",
       "       [-254.     , -254.     , -254.     , -254.     , -254.     ,\n",
       "        -254.     , -254.     , -254.     , -254.     , -254.     ,\n",
       "        -254.     , -254.     , -254.     , -254.     , -254.     ,\n",
       "        -254.     , -254.     , -254.     , -254.     , -254.     ,\n",
       "        -254.     , -254.     , -254.     , -254.     , -254.     ,\n",
       "        -254.     , -254.     , -254.     ],\n",
       "       [-254.     , -254.     , -254.     , -254.     , -254.     ,\n",
       "        -254.     , -254.     , -254.     , -254.     , -254.     ,\n",
       "        -254.     , -254.     , -254.     , -254.     , -254.     ,\n",
       "        -254.     , -254.     , -254.     , -254.     , -254.     ,\n",
       "        -254.     , -254.     , -254.     , -254.     , -254.     ,\n",
       "        -254.     , -254.     , -254.     ],\n",
       "       [-254.     , -254.     , -254.     , -254.     , -254.     ,\n",
       "        -254.     , -254.     , -254.     , -254.     , -254.     ,\n",
       "        -254.     , -254.     , -254.     , -254.     , -254.     ,\n",
       "        -254.     , -254.     , -254.     , -254.     , -254.     ,\n",
       "        -254.     , -254.     , -254.     , -254.     , -254.     ,\n",
       "        -254.     , -254.     , -254.     ],\n",
       "       [-254.     , -254.     , -254.     , -254.     , -254.     ,\n",
       "        -254.     , -254.     , -254.     , -254.     , -254.     ,\n",
       "        -254.     , -254.     , -254.     , -254.     , -254.     ,\n",
       "        -254.     , -254.     , -254.     , -254.     , -254.     ,\n",
       "        -254.     , -254.     , -254.     , -254.     , -254.     ,\n",
       "        -254.     , -254.     , -254.     ]], dtype=float32)"
      ]
     },
     "execution_count": 6,
     "metadata": {},
     "output_type": "execute_result"
    }
   ],
   "source": [
    "image-255"
   ]
  },
  {
   "cell_type": "code",
   "execution_count": 34,
   "id": "swiss-edinburgh",
   "metadata": {},
   "outputs": [
    {
     "data": {
      "image/png": "[encoded data removed]",
      "text/plain": [
       "<Figure size 216x216 with 1 Axes>"
      ]
     },
     "metadata": {
      "needs_background": "light"
     },
     "output_type": "display_data"
    }
   ],
   "source": [
    "#檢測像素是否正錯\n",
    "imageA = image.copy()\n",
    "for j in range(image.shape[1]) : \n",
    "    for i in range(image.shape[0]) : \n",
    "        imageA[j][i] = imageA[j][i] + 0.5\n",
    "        if imageA[j][i]<0 :imageA[j][i] = 0\n",
    "        if imageA[j][i]>1 :imageA[j][i] = 1\n",
    "        #print(imageA[i][j])\n",
    "        \n",
    "plt.figure(figsize=(3,3)); plt.imshow(imageA,cmap='gray');"
   ]
  },
  {
   "cell_type": "code",
   "execution_count": 35,
   "id": "accurate-illinois",
   "metadata": {},
   "outputs": [
    {
     "data": {
      "image/png": "[encoded data removed]",
      "text/plain": [
       "<Figure size 216x216 with 1 Axes>"
      ]
     },
     "metadata": {
      "needs_background": "light"
     },
     "output_type": "display_data"
    }
   ],
   "source": [
    "#旋轉\n",
    "imageB = np.ones([28,28])\n",
    "angle  = 270\n",
    "theta  = np.pi*angle/180\n",
    "\n",
    "rot_max_x = (imageB.shape[1] - round( 28 * np.cos(theta) - 28 * np.sin(theta) ) )/2\n",
    "rot_max_y = (imageB.shape[0] - round( 28 * np.sin(theta) + 28 * np.cos(theta) ) )/2\n",
    "\n",
    "for y in range(image.shape[1]-1) : \n",
    "    for x in range(image.shape[0]-1) : \n",
    "        new_x = round( x * np.cos(theta) - y * np.sin(theta) ) + round(rot_max_x)\n",
    "        new_y = round( x * np.sin(theta) + y * np.cos(theta) ) + round(rot_max_y)\n",
    "        if new_x>27 : new_x=27\n",
    "        if new_y>27 : new_y=27\n",
    "        if new_x<0  : new_x=0 \n",
    "        if new_y<0  : new_y=0 \n",
    "        #print(new_x,new_y)\n",
    "        imageB[new_y][new_x] = image[y][x]\n",
    "        #print(imageA[i][j])\n",
    "        \n",
    "plt.figure(figsize=(3,3)); plt.imshow(imageB,cmap='gray');"
   ]
  },
  {
   "cell_type": "code",
   "execution_count": 25,
   "id": "norwegian-juvenile",
   "metadata": {},
   "outputs": [
    {
     "data": {
      "image/png": "[encoded data removed]",
      "text/plain": [
       "<Figure size 216x216 with 1 Axes>"
      ]
     },
     "metadata": {
      "needs_background": "light"
     },
     "output_type": "display_data"
    }
   ],
   "source": [
    "imageB = np.ones([28,28])\n",
    "imageB[0][0]=0\n",
    "plt.figure(figsize=(3,3)); plt.imshow(imageB,cmap='gray');"
   ]
  },
  {
   "cell_type": "code",
   "execution_count": 36,
   "id": "italic-gospel",
   "metadata": {},
   "outputs": [
    {
     "data": {
      "text/plain": [
       "(7, 7)"
      ]
     },
     "execution_count": 36,
     "metadata": {},
     "output_type": "execute_result"
    },
    {
     "data": {
      "image/png": "[encoded data removed]",
      "text/plain": [
       "<Figure size 216x216 with 1 Axes>"
      ]
     },
     "metadata": {
      "needs_background": "light"
     },
     "output_type": "display_data"
    }
   ],
   "source": [
    "#縮放\n",
    "scaling = 0.25\n",
    "imageC = np.ones([round(28*scaling),round(28*scaling)])\n",
    "for y in range(image.shape[1]) : \n",
    "    #print(y)\n",
    "    for x in range(image.shape[0]) : \n",
    "        new_x = int(x*scaling)\n",
    "        new_y = int(y*scaling)\n",
    "        imageC[new_y][new_x] = image[y][x]\n",
    "        #print(new_y)\n",
    "   \n",
    "    \n",
    "plt.figure(figsize=(3,3)); plt.imshow(imageC,cmap='gray');\n",
    "imageC.shape   "
   ]
  },
  {
   "cell_type": "code",
   "execution_count": 11,
   "id": "flying-charter",
   "metadata": {},
   "outputs": [
    {
     "data": {
      "text/plain": [
       "14"
      ]
     },
     "execution_count": 11,
     "metadata": {},
     "output_type": "execute_result"
    }
   ],
   "source": [
    "round(28*0.5)"
   ]
  },
  {
   "cell_type": "code",
   "execution_count": 37,
   "id": "funky-lexington",
   "metadata": {},
   "outputs": [
    {
     "data": {
      "image/png": "[encoded data removed]",
      "text/plain": [
       "<Figure size 216x216 with 1 Axes>"
      ]
     },
     "metadata": {
      "needs_background": "light"
     },
     "output_type": "display_data"
    }
   ],
   "source": [
    "# 平移\n",
    "t_x  = 5\n",
    "t_y  = 10\n",
    "imageD = np.ones([28,28])\n",
    "for y in range(image.shape[1]-1) : \n",
    "    for x in range(image.shape[0]-1) : \n",
    "        new_x = round(x+t_x)\n",
    "        new_y = round(y+t_y)\n",
    "        if new_x>27 : new_x=27\n",
    "        if new_y>27 : new_y=27\n",
    "        if new_x<0  : new_x=0 \n",
    "        if new_y<0  : new_y=0 \n",
    "        imageD[new_y][new_x] = image[y][x]\n",
    "        \n",
    "plt.figure(figsize=(3,3)); plt.imshow(imageD,cmap='gray');"
   ]
  },
  {
   "cell_type": "code",
   "execution_count": 38,
   "id": "front-pittsburgh",
   "metadata": {},
   "outputs": [
    {
     "data": {
      "image/png": "[encoded data removed]",
      "text/plain": [
       "<Figure size 216x216 with 1 Axes>"
      ]
     },
     "metadata": {
      "needs_background": "light"
     },
     "output_type": "display_data"
    }
   ],
   "source": [
    "#BW\n",
    "threshold = 128\n",
    "threshold = threshold/255\n",
    "image_binary = np.zeros([28,28])\n",
    "for y in range(image.shape[1]) : \n",
    "    for x in range(image.shape[0]) :\n",
    "        if(image[y][x]> threshold) : image_binary[y][x] = 1\n",
    "        if(image[y][x]<=threshold) : image_binary[y][x] = 0  \n",
    "plt.figure(figsize=(3,3)); plt.imshow(image_binary,cmap='gray');"
   ]
  },
  {
   "cell_type": "code",
   "execution_count": 30,
   "id": "asian-retreat",
   "metadata": {},
   "outputs": [
    {
     "data": {
      "image/png": "[encoded data removed]",
      "text/plain": [
       "<Figure size 216x216 with 1 Axes>"
      ]
     },
     "metadata": {
      "needs_background": "light"
     },
     "output_type": "display_data"
    },
    {
     "data": {
      "image/png": "[encoded data removed]",
      "text/plain": [
       "<Figure size 216x216 with 1 Axes>"
      ]
     },
     "metadata": {
      "needs_background": "light"
     },
     "output_type": "display_data"
    }
   ],
   "source": [
    "#Hough - pre\n",
    "#BW\n",
    "threshold = \n",
    "threshold = threshold/255\n",
    "image_binary = np.zeros([28,28])\n",
    "for y in range(image.shape[1]) : \n",
    "    for x in range(image.shape[0]) :\n",
    "        if(imageB[y][x]> threshold) : image_binary[y][x] = 1\n",
    "        if(imageB[y][x]<=threshold) : image_binary[y][x] = 0  \n",
    "plt.figure(figsize=(3,3)); plt.imshow(image_binary,cmap='gray');\n",
    "\n",
    "\n",
    "image_edge = np.ones([28,28])\n",
    "for y in range(image.shape[1]-1) : \n",
    "    for x in range(image.shape[0]-2) :\n",
    "        image_edge[y][x] = abs(image_binary[y][x+1] - image_binary[y][x])   \n",
    "plt.figure(figsize=(3,3)); plt.imshow(image_edge[:-1,:-2],cmap='gray');"
   ]
  },
  {
   "cell_type": "code",
   "execution_count": 39,
   "id": "potential-packet",
   "metadata": {},
   "outputs": [
    {
     "data": {
      "image/png": "[encoded data removed]",
      "text/plain": [
       "<Figure size 216x216 with 1 Axes>"
      ]
     },
     "metadata": {
      "needs_background": "light"
     },
     "output_type": "display_data"
    },
    {
     "data": {
      "image/png": "[encoded data removed]",
      "text/plain": [
       "<Figure size 216x216 with 1 Axes>"
      ]
     },
     "metadata": {
      "needs_background": "light"
     },
     "output_type": "display_data"
    }
   ],
   "source": [
    "# edge\n",
    "image_edge = np.ones([28,28])\n",
    "for y in range(image.shape[1]-1) : \n",
    "    for x in range(image.shape[0]-2) :\n",
    "        image_edge[y][x] = abs(image_binary[y][x+1] - image_binary[y][x])   \n",
    "plt.figure(figsize=(3,3)); plt.imshow(image_binary,cmap='gray');\n",
    "plt.figure(figsize=(3,3)); plt.imshow(image_edge[:-1,:-2],cmap='gray');"
   ]
  },
  {
   "cell_type": "code",
   "execution_count": 40,
   "id": "rural-greene",
   "metadata": {},
   "outputs": [
    {
     "name": "stdout",
     "output_type": "stream",
     "text": [
      "最有可能角度為 :  85 最有可能半徑為 : 13\n"
     ]
    }
   ],
   "source": [
    "theta_max = 90\n",
    "rho_max = round(np.sqrt(28**2+28**2))\n",
    "acc_matrix = np.zeros([theta_max,rho_max])\n",
    "acc_max_value = 0\n",
    "detect_line_theta  = 0\n",
    "detect_line_rho  = 0\n",
    "for y in range(imageB.shape[1]-1) : \n",
    "    for x in range(imageB.shape[0]-2) : \n",
    "        if(image_edge[y][x] ==1) :\n",
    "            for theta in range(theta_max):\n",
    "                rho = round( y*np.cos(3.14159*(theta)/180)  +  x*np.sin(3.14159*(theta)/180))\n",
    "                acc_matrix[theta][rho]=acc_matrix[theta][rho]+1 #print(theta,rho,acc_matrix[theta][rho])\n",
    "                if(acc_matrix[theta][rho]>acc_max_value) :\n",
    "                    acc_max_value = acc_matrix[theta][rho]\n",
    "                    detect_line_theta = theta\n",
    "                    detect_line_rho = rho\n",
    "                    \n",
    "print(\"最有可能角度為 : \",detect_line_theta, '最有可能半徑為 :', detect_line_rho)"
   ]
  },
  {
   "cell_type": "code",
   "execution_count": 17,
   "id": "korean-salad",
   "metadata": {},
   "outputs": [
    {
     "data": {
      "text/plain": [
       "<matplotlib.image.AxesImage at 0x1992090ce48>"
      ]
     },
     "execution_count": 17,
     "metadata": {},
     "output_type": "execute_result"
    },
    {
     "data": {
      "image/png": "[encoded data removed]",
      "text/plain": [
       "<Figure size 432x288 with 1 Axes>"
      ]
     },
     "metadata": {
      "needs_background": "light"
     },
     "output_type": "display_data"
    }
   ],
   "source": [
    "import numpy as np\n",
    "import matplotlib\n",
    "import matplotlib.pyplot as plt\n",
    "import torch\n",
    "import numpy as np\n",
    "import scipy.misc #數學工具包\n",
    "\n",
    "from utils import load_image, save_image\n",
    "from scipy import ndimage\n",
    "image = load_image('../lena_256x256.png')\n",
    "gray  = image[:,:,1] \n",
    "\n",
    "#https://docs.scipy.org/doc/scipy/reference/ndimage.html\n",
    "gray_sobel_filter = np.abs(ndimage.sobel(gray,0))\n",
    "gray_prewitt_filter = np.abs(ndimage.prewitt(gray))\n",
    "gray_laplace_filter = np.abs(ndimage.laplace(gray))\n",
    "gray_gaussian_filter_sigma = ndimage.gaussian_filter(gray,sigma=5)  #中值濾波\n",
    "gray_median_filter_size7 = ndimage.median_filter(gray, 7)  #中值濾波\n",
    "\n",
    "plt.imshow(gray_sobel_filter,cmap='gray')"
   ]
  },
  {
   "cell_type": "code",
   "execution_count": null,
   "id": "spread-memphis",
   "metadata": {},
   "outputs": [],
   "source": []
  },
  {
   "cell_type": "code",
   "execution_count": null,
   "id": "continued-victoria",
   "metadata": {},
   "outputs": [],
   "source": []
  }
 ],
 "metadata": {
  "kernelspec": {
   "display_name": "Python 3",
   "language": "python",
   "name": "python3"
  },
  "language_info": {
   "codemirror_mode": {
    "name": "ipython",
    "version": 3
   },
   "file_extension": ".py",
   "mimetype": "text/x-python",
   "name": "python",
   "nbconvert_exporter": "python",
   "pygments_lexer": "ipython3",
   "version": "3.6.12"
  }
 },
 "nbformat": 4,
 "nbformat_minor": 5
}
